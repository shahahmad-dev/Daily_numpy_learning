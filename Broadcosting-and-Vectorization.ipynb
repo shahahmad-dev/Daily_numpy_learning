{
 "cells": [
  {
   "cell_type": "code",
   "execution_count": 5,
   "id": "7c8ce83e-4004-4c35-8795-c3b5559d7f45",
   "metadata": {},
   "outputs": [],
   "source": [
    "import numpy as np"
   ]
  },
  {
   "cell_type": "markdown",
   "id": "7d62489a-7292-4573-9abf-5f2e052b4483",
   "metadata": {},
   "source": [
    "# Broadcosting "
   ]
  },
  {
   "cell_type": "code",
   "execution_count": 8,
   "id": "cfc53ebe-2b63-4488-9aba-eedfab8efb79",
   "metadata": {},
   "outputs": [
    {
     "name": "stdout",
     "output_type": "stream",
     "text": [
      "[[1 2 3]\n",
      " [5 6 7]]\n"
     ]
    },
    {
     "data": {
      "text/plain": [
       "(2, 3)"
      ]
     },
     "execution_count": 8,
     "metadata": {},
     "output_type": "execute_result"
    }
   ],
   "source": [
    "image = np.array([[1,2,3],[5,6,7,]])\n",
    "print(image)\n",
    "image.shape"
   ]
  },
  {
   "cell_type": "code",
   "execution_count": 10,
   "id": "811976a0-d96a-428b-ae18-27c945fd4892",
   "metadata": {},
   "outputs": [
    {
     "data": {
      "text/plain": [
       "(2, 3)"
      ]
     },
     "execution_count": 10,
     "metadata": {},
     "output_type": "execute_result"
    }
   ],
   "source": [
    "brigtness = image + 2\n",
    "brigtness\n",
    "brigtness.shape"
   ]
  },
  {
   "cell_type": "code",
   "execution_count": 15,
   "id": "97b74acc-ad38-4bd7-b64c-36d38d646ba7",
   "metadata": {},
   "outputs": [
    {
     "data": {
      "text/plain": [
       "(2, 3)"
      ]
     },
     "execution_count": 15,
     "metadata": {},
     "output_type": "execute_result"
    }
   ],
   "source": [
    "arr = np.array([[1,2,3],\n",
    "                \n",
    "                [7,8,9]])\n",
    "arr.shape"
   ]
  },
  {
   "cell_type": "code",
   "execution_count": 14,
   "id": "fabd93c1-ab32-4fae-9fd2-bdcd2dfb40da",
   "metadata": {},
   "outputs": [
    {
     "data": {
      "text/plain": [
       "(3,)"
      ]
     },
     "execution_count": 14,
     "metadata": {},
     "output_type": "execute_result"
    }
   ],
   "source": [
    "arr1 = np.array([10,30,40])\n",
    "arr1.shape"
   ]
  },
  {
   "cell_type": "code",
   "execution_count": 18,
   "id": "9b3ceef3-2a22-4e1d-8e86-f33949f38fa0",
   "metadata": {},
   "outputs": [
    {
     "data": {
      "text/plain": [
       "array([[11, 32, 43],\n",
       "       [17, 38, 49]])"
      ]
     },
     "execution_count": 18,
     "metadata": {},
     "output_type": "execute_result"
    }
   ],
   "source": [
    "arr2 = arr + arr1\n",
    "arr2"
   ]
  },
  {
   "cell_type": "code",
   "execution_count": 20,
   "id": "270f3dee-ff56-4946-b30d-d6670ecef1c3",
   "metadata": {},
   "outputs": [
    {
     "data": {
      "text/plain": [
       "(2, 3)"
      ]
     },
     "execution_count": 20,
     "metadata": {},
     "output_type": "execute_result"
    }
   ],
   "source": [
    "arr3 = np.array([[1,2,3],\n",
    "                \n",
    "                [7,8,9]])\n",
    "arr3.shape"
   ]
  },
  {
   "cell_type": "code",
   "execution_count": 23,
   "id": "b0e5e2a8-7207-4823-96a2-a996aa6450e7",
   "metadata": {},
   "outputs": [
    {
     "data": {
      "text/plain": [
       "(1,)"
      ]
     },
     "execution_count": 23,
     "metadata": {},
     "output_type": "execute_result"
    }
   ],
   "source": [
    "arr4 = np.array([10])\n",
    "arr4.shape"
   ]
  },
  {
   "cell_type": "code",
   "execution_count": 24,
   "id": "fe203148-d35c-4d04-bc62-482decf79ae1",
   "metadata": {},
   "outputs": [
    {
     "data": {
      "text/plain": [
       "array([[11, 12, 13],\n",
       "       [17, 18, 19]])"
      ]
     },
     "execution_count": 24,
     "metadata": {},
     "output_type": "execute_result"
    }
   ],
   "source": [
    "arr5 = arr3 + arr4\n",
    "arr5"
   ]
  },
  {
   "cell_type": "markdown",
   "id": "c76ad3f7-2c25-4b5f-93a5-52bce2857e68",
   "metadata": {},
   "source": [
    "# Vectorization"
   ]
  },
  {
   "cell_type": "code",
   "execution_count": 26,
   "id": "4f741edc-61f8-42be-967a-9400cd0dbacf",
   "metadata": {},
   "outputs": [],
   "source": [
    "def square(x):\n",
    "    return x*x\n",
    "\n",
    "vfunc = np.vectorize(square)\n",
    "\n"
   ]
  },
  {
   "cell_type": "code",
   "execution_count": 28,
   "id": "a010a3c3-5b86-45fb-af64-6cccadb287ac",
   "metadata": {},
   "outputs": [],
   "source": [
    "arr = np.array([1,2,3,5])"
   ]
  },
  {
   "cell_type": "code",
   "execution_count": 29,
   "id": "e9e2890a-b56c-47c1-8d11-a3504ec14de5",
   "metadata": {},
   "outputs": [
    {
     "name": "stdout",
     "output_type": "stream",
     "text": [
      "[ 1  4  9 25]\n"
     ]
    }
   ],
   "source": [
    "print(vfunc(arr))"
   ]
  },
  {
   "cell_type": "code",
   "execution_count": 35,
   "id": "8bcb22bc-0c74-49f6-8e60-46f6164faab9",
   "metadata": {},
   "outputs": [
    {
     "data": {
      "text/plain": [
       "array([1. , 2. , 4. , nan, 3.3])"
      ]
     },
     "execution_count": 35,
     "metadata": {},
     "output_type": "execute_result"
    }
   ],
   "source": [
    "# Dealing with massing values\n",
    "arr = np.array([1,2,4, np.nan, 3]) # add nan value\n",
    "arr"
   ]
  },
  {
   "cell_type": "code",
   "execution_count": 32,
   "id": "94701e93-fdfe-4380-b77f-a78ed45dc078",
   "metadata": {},
   "outputs": [
    {
     "name": "stdout",
     "output_type": "stream",
     "text": [
      "[False False False  True False]\n"
     ]
    }
   ],
   "source": [
    "print(np.isnan(arr))"
   ]
  },
  {
   "cell_type": "code",
   "execution_count": 36,
   "id": "49da6f8f-77a8-4419-a30d-c9d55664201f",
   "metadata": {},
   "outputs": [],
   "source": [
    "arr = np.array([1,2,3, np.inf, np.nan]) # add infinit value"
   ]
  },
  {
   "cell_type": "code",
   "execution_count": 37,
   "id": "8455aff0-099a-40ae-9173-5f9e1934e2f8",
   "metadata": {},
   "outputs": [
    {
     "name": "stdout",
     "output_type": "stream",
     "text": [
      "[False False False  True False]\n"
     ]
    }
   ],
   "source": [
    "print(np.isinf(arr))"
   ]
  },
  {
   "cell_type": "code",
   "execution_count": 44,
   "id": "c6866928-e331-4ca0-a521-c73507768d4f",
   "metadata": {},
   "outputs": [
    {
     "name": "stdout",
     "output_type": "stream",
     "text": [
      "[False False False  True  True]\n"
     ]
    }
   ],
   "source": [
    "print(np.logical_or(np.isinf(arr), np.isnan(arr)))\n"
   ]
  },
  {
   "cell_type": "code",
   "execution_count": 46,
   "id": "825133c5-22f7-4540-bc32-dfb9a311a1a5",
   "metadata": {},
   "outputs": [
    {
     "data": {
      "text/plain": [
       "array([1.00000000e+000, 2.00000000e+000, 3.00000000e+000, 1.79769313e+308,\n",
       "       0.00000000e+000])"
      ]
     },
     "execution_count": 46,
     "metadata": {},
     "output_type": "execute_result"
    }
   ],
   "source": [
    "new_arr = np.nan_to_num(arr) # remove NAN and infinite values\n",
    "new_arr"
   ]
  }
 ],
 "metadata": {
  "kernelspec": {
   "display_name": "Python 3 (ipykernel)",
   "language": "python",
   "name": "python3"
  },
  "language_info": {
   "codemirror_mode": {
    "name": "ipython",
    "version": 3
   },
   "file_extension": ".py",
   "mimetype": "text/x-python",
   "name": "python",
   "nbconvert_exporter": "python",
   "pygments_lexer": "ipython3",
   "version": "3.13.1"
  }
 },
 "nbformat": 4,
 "nbformat_minor": 5
}
