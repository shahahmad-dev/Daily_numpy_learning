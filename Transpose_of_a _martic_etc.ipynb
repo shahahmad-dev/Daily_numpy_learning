{
 "cells": [
  {
   "cell_type": "code",
   "execution_count": 3,
   "id": "a2e00735-d485-4dc0-8d68-58cdfd0dcb4b",
   "metadata": {},
   "outputs": [],
   "source": [
    "import numpy as np"
   ]
  },
  {
   "cell_type": "code",
   "execution_count": 6,
   "id": "4106151c-4d5d-47d0-b5c2-229a6d6961b0",
   "metadata": {},
   "outputs": [
    {
     "data": {
      "text/plain": [
       "array([[1, 2],\n",
       "       [3, 4]])"
      ]
     },
     "execution_count": 6,
     "metadata": {},
     "output_type": "execute_result"
    }
   ],
   "source": [
    "# Transpose of a matrix\n",
    "\n",
    "arr = np.array([[1,2], [3,4]])\n",
    "arr"
   ]
  },
  {
   "cell_type": "code",
   "execution_count": 7,
   "id": "0d64a6aa-081c-4ed5-8aa3-8a66bef0a286",
   "metadata": {},
   "outputs": [
    {
     "name": "stdout",
     "output_type": "stream",
     "text": [
      "[[1 3]\n",
      " [2 4]]\n"
     ]
    }
   ],
   "source": [
    "print(arr.transpose())"
   ]
  },
  {
   "cell_type": "code",
   "execution_count": 32,
   "id": "56aac48b-c49b-4c0a-ac3c-19a829eace0b",
   "metadata": {},
   "outputs": [
    {
     "name": "stdout",
     "output_type": "stream",
     "text": [
      "Normal array\n",
      "[[1 2 3]\n",
      " [4 5 6]]\n",
      "Swapped array\n",
      "[[1 4]\n",
      " [2 5]\n",
      " [3 6]]\n"
     ]
    }
   ],
   "source": [
    "#Swapaxes\n",
    "arr = np.array([[1,2,3],[4,5,6]])\n",
    "print('Normal array')\n",
    "print(arr)\n",
    "\n",
    "swapped = np.swapaxes(arr, 0, 1)\n",
    "print('Swapped array')\n",
    "print(swapped)"
   ]
  },
  {
   "cell_type": "code",
   "execution_count": 9,
   "id": "3dd105ad-374c-4cfb-93dc-be9e24b3efc5",
   "metadata": {},
   "outputs": [
    {
     "data": {
      "text/plain": [
       "array([1, 2, 3, 4, 5, 6])"
      ]
     },
     "execution_count": 9,
     "metadata": {},
     "output_type": "execute_result"
    }
   ],
   "source": [
    "# Concatenation\n",
    "a = np.array([1,2,3])\n",
    "b = np.array([4,5,6])\n",
    "\n",
    "combine = np.concatenate((a,b))\n",
    "combine"
   ]
  },
  {
   "cell_type": "code",
   "execution_count": 14,
   "id": "43c1f663-05fa-4972-bd0e-d9e6bf2d8ed5",
   "metadata": {},
   "outputs": [
    {
     "data": {
      "text/plain": [
       "array([[1, 2, 3],\n",
       "       [4, 5, 6]])"
      ]
     },
     "execution_count": 14,
     "metadata": {},
     "output_type": "execute_result"
    }
   ],
   "source": [
    "# vstack method\n",
    "arr1 = np.array([1,2,3])\n",
    "arr2 = np.array([4,5,6])\n",
    "\n",
    "result = np.vstack((arr1, arr2))\n",
    "result"
   ]
  },
  {
   "cell_type": "code",
   "execution_count": 15,
   "id": "e5ac8bc7-3842-4cb9-857e-4d5281516b7d",
   "metadata": {},
   "outputs": [
    {
     "data": {
      "text/plain": [
       "array([1, 2, 3, 4, 5, 6])"
      ]
     },
     "execution_count": 15,
     "metadata": {},
     "output_type": "execute_result"
    }
   ],
   "source": [
    "# hstack method\n",
    "arr1 = np.array([1,2,3])\n",
    "arr2 = np.array([4,5,6])\n",
    "\n",
    "result = np.hstack((arr1, arr2))\n",
    "result"
   ]
  },
  {
   "cell_type": "code",
   "execution_count": 38,
   "id": "84ddbbee-4804-405c-ab8e-734b2ac131d5",
   "metadata": {},
   "outputs": [
    {
     "name": "stdout",
     "output_type": "stream",
     "text": [
      "[array([[1, 2, 3, 4],\n",
      "       [6, 7, 8, 9]])]\n"
     ]
    }
   ],
   "source": [
    "# split \n",
    "arr = np.array([[1,2,3,4],\n",
    "                [6,7,8,9]])\n",
    "print(np.split(arr,1))"
   ]
  },
  {
   "cell_type": "code",
   "execution_count": 41,
   "id": "b1986922-bb80-429f-b7c1-492690eeae9a",
   "metadata": {},
   "outputs": [
    {
     "name": "stdout",
     "output_type": "stream",
     "text": [
      "[array([[1, 2, 3, 4]]), array([[6, 7, 8, 9]])]\n"
     ]
    }
   ],
   "source": [
    "# vsplit \n",
    "arr = np.array([[1,2,3,4],\n",
    "                [6,7,8,9]])\n",
    "print(np.vsplit(arr,2))"
   ]
  },
  {
   "cell_type": "code",
   "execution_count": 46,
   "id": "e16ba8c7-59e7-41fb-badb-9a9bdae351e4",
   "metadata": {},
   "outputs": [
    {
     "name": "stdout",
     "output_type": "stream",
     "text": [
      "[array([[1],\n",
      "       [6]]), array([[2],\n",
      "       [7]]), array([[3],\n",
      "       [8]]), array([[4],\n",
      "       [9]])]\n"
     ]
    }
   ],
   "source": [
    "# hsplit \n",
    "arr = np.array([[1,2,3,4],\n",
    "                [6,7,8,9]])\n",
    "print(np.hsplit(arr,4))"
   ]
  },
  {
   "cell_type": "code",
   "execution_count": 47,
   "id": "a8853fb0-4e89-43ee-b9c8-1e5f1664d4a5",
   "metadata": {},
   "outputs": [
    {
     "name": "stdout",
     "output_type": "stream",
     "text": [
      "[1 1 2 2 3 3 4 4]\n"
     ]
    }
   ],
   "source": [
    "# repating\n",
    "arr = np.array([1,2,3,4])\n",
    "print(np.repeat(arr,2))"
   ]
  },
  {
   "cell_type": "code",
   "execution_count": 49,
   "id": "fd1ed93c-0d99-4b79-b5fc-90959137a9d4",
   "metadata": {},
   "outputs": [
    {
     "name": "stdout",
     "output_type": "stream",
     "text": [
      "[1 2 3 4 1 2 3 4 1 2 3 4 1 2 3 4]\n"
     ]
    }
   ],
   "source": [
    "# tile -> repate my whole array\n",
    "arr = np.array([1,2,3,4])\n",
    "print(np.tile(arr,4))"
   ]
  },
  {
   "cell_type": "code",
   "execution_count": null,
   "id": "62e9ad4e-fcb6-495f-8538-f4b24624ddf9",
   "metadata": {},
   "outputs": [],
   "source": []
  }
 ],
 "metadata": {
  "kernelspec": {
   "display_name": "Python 3 (ipykernel)",
   "language": "python",
   "name": "python3"
  },
  "language_info": {
   "codemirror_mode": {
    "name": "ipython",
    "version": 3
   },
   "file_extension": ".py",
   "mimetype": "text/x-python",
   "name": "python",
   "nbconvert_exporter": "python",
   "pygments_lexer": "ipython3",
   "version": "3.13.1"
  }
 },
 "nbformat": 4,
 "nbformat_minor": 5
}
