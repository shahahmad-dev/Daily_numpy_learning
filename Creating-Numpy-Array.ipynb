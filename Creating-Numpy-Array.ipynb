{
 "cells": [
  {
   "cell_type": "markdown",
   "id": "d425cc6b-421e-4624-9ce3-d546bf68f126",
   "metadata": {},
   "source": [
    "# Ceating Numpy Array"
   ]
  },
  {
   "cell_type": "code",
   "execution_count": 3,
   "id": "4a86df32-bf2e-4741-8dfc-4d37a922e8d3",
   "metadata": {},
   "outputs": [
    {
     "name": "stdout",
     "output_type": "stream",
     "text": [
      "Basic Array: [1 2 3 4 5]\n"
     ]
    }
   ],
   "source": [
    "import numpy as np\n",
    "\n",
    "# 1️⃣ Basic Array\n",
    "arr = np.array([1, 2, 3, 4, 5])\n",
    "print(\"Basic Array:\", arr)\n"
   ]
  },
  {
   "cell_type": "code",
   "execution_count": 4,
   "id": "e5d64696-f02a-4612-a166-60fcbc6e4318",
   "metadata": {},
   "outputs": [
    {
     "name": "stdout",
     "output_type": "stream",
     "text": [
      "2D Array:\n",
      " [[1 2 3]\n",
      " [4 5 6]]\n"
     ]
    }
   ],
   "source": [
    "# 2️⃣ 2D Array\n",
    "arr2 = np.array([[1, 2, 3], [4, 5, 6]])\n",
    "print(\"2D Array:\\n\", arr2)\n"
   ]
  },
  {
   "cell_type": "code",
   "execution_count": 5,
   "id": "12fa69c5-b3e7-4497-b819-89686ab4f363",
   "metadata": {},
   "outputs": [
    {
     "name": "stdout",
     "output_type": "stream",
     "text": [
      "Zeros Array:\n",
      " [[0. 0. 0.]\n",
      " [0. 0. 0.]]\n"
     ]
    }
   ],
   "source": [
    "# 3️⃣ Zeros Array\n",
    "zeros_arr = np.zeros((2, 3))\n",
    "print(\"Zeros Array:\\n\", zeros_arr)\n"
   ]
  },
  {
   "cell_type": "code",
   "execution_count": 6,
   "id": "c16119cf-b05d-439a-8e42-11a3bff3e478",
   "metadata": {},
   "outputs": [
    {
     "name": "stdout",
     "output_type": "stream",
     "text": [
      "Ones Array:\n",
      " [[1. 1. 1. 1.]\n",
      " [1. 1. 1. 1.]\n",
      " [1. 1. 1. 1.]]\n"
     ]
    }
   ],
   "source": [
    "# 4️⃣ Ones Array\n",
    "ones_arr = np.ones((3, 4))\n",
    "print(\"Ones Array:\\n\", ones_arr)\n"
   ]
  },
  {
   "cell_type": "code",
   "execution_count": 7,
   "id": "729e3af9-a334-4618-b08b-30f514f161f3",
   "metadata": {},
   "outputs": [
    {
     "name": "stdout",
     "output_type": "stream",
     "text": [
      "Identity Matrix:\n",
      " [[1. 0. 0.]\n",
      " [0. 1. 0.]\n",
      " [0. 0. 1.]]\n"
     ]
    }
   ],
   "source": [
    "# 5️⃣ Identity Matrix\n",
    "eye_arr = np.eye(3)\n",
    "print(\"Identity Matrix:\\n\", eye_arr)\n"
   ]
  },
  {
   "cell_type": "code",
   "execution_count": 8,
   "id": "a6a499eb-c87e-43cf-9d09-2bfff945bf70",
   "metadata": {},
   "outputs": [
    {
     "name": "stdout",
     "output_type": "stream",
     "text": [
      "Range Array: [0 2 4 6 8]\n"
     ]
    }
   ],
   "source": [
    "# 6️⃣ Range Array (arange)\n",
    "range_arr = np.arange(0, 10, 2)\n",
    "print(\"Range Array:\", range_arr)\n"
   ]
  },
  {
   "cell_type": "code",
   "execution_count": 9,
   "id": "fa7dba6c-d02f-45a7-95a4-1f1f287081b9",
   "metadata": {},
   "outputs": [
    {
     "name": "stdout",
     "output_type": "stream",
     "text": [
      "Linspace Array: [0.   0.25 0.5  0.75 1.  ]\n"
     ]
    }
   ],
   "source": [
    "# 7️⃣ linspace\n",
    "lin_arr = np.linspace(0, 1, 5)\n",
    "print(\"Linspace Array:\", lin_arr)\n"
   ]
  },
  {
   "cell_type": "code",
   "execution_count": 10,
   "id": "9fbeadeb-ab71-47d2-8a83-d1263ef9b8b1",
   "metadata": {},
   "outputs": [
    {
     "name": "stdout",
     "output_type": "stream",
     "text": [
      "Logspace Array: [  10.  100. 1000.]\n"
     ]
    }
   ],
   "source": [
    "# 8️⃣ logspace\n",
    "log_arr = np.logspace(1, 3, 3)\n",
    "print(\"Logspace Array:\", log_arr)\n"
   ]
  },
  {
   "cell_type": "code",
   "execution_count": 11,
   "id": "8ccb2baa-50d3-4b32-b2f9-95339b5cd311",
   "metadata": {},
   "outputs": [
    {
     "name": "stdout",
     "output_type": "stream",
     "text": [
      "Random Array:\n",
      " [[0.97982191 0.97493031]\n",
      " [0.9395683  0.19185109]]\n"
     ]
    }
   ],
   "source": [
    "# 9️⃣ Random Array\n",
    "rand_arr = np.random.rand(2, 2)\n",
    "print(\"Random Array:\\n\", rand_arr)\n"
   ]
  },
  {
   "cell_type": "code",
   "execution_count": 12,
   "id": "6f4efedb-b969-438b-84c5-2a30c888c99f",
   "metadata": {},
   "outputs": [
    {
     "name": "stdout",
     "output_type": "stream",
     "text": [
      "Full Array:\n",
      " [[7 7 7]\n",
      " [7 7 7]]\n"
     ]
    }
   ],
   "source": [
    "# 🔟 Full Array\n",
    "full_arr = np.full((2, 3), 7)\n",
    "print(\"Full Array:\\n\", full_arr)\n"
   ]
  },
  {
   "cell_type": "code",
   "execution_count": 13,
   "id": "b8dc8a2b-a70f-4c14-93a0-333b198802a7",
   "metadata": {},
   "outputs": [
    {
     "name": "stdout",
     "output_type": "stream",
     "text": [
      "Full Array:\n",
      " [[7 7 7]\n",
      " [7 7 7]]\n"
     ]
    }
   ],
   "source": [
    "# 🔟 Full Array\n",
    "full_arr = np.full((2, 3), 7)\n",
    "print(\"Full Array:\\n\", full_arr)\n"
   ]
  },
  {
   "cell_type": "code",
   "execution_count": 14,
   "id": "2fc04683-94aa-472f-915a-9d36363f20a9",
   "metadata": {},
   "outputs": [
    {
     "name": "stdout",
     "output_type": "stream",
     "text": [
      "Empty Array:\n",
      " [[3.5e-323 3.5e-323 3.5e-323]\n",
      " [3.5e-323 3.5e-323 3.5e-323]]\n"
     ]
    }
   ],
   "source": [
    "# 1️⃣1️⃣ Empty Array\n",
    "empty_arr = np.empty((2, 3))\n",
    "print(\"Empty Array:\\n\", empty_arr)\n"
   ]
  }
 ],
 "metadata": {
  "kernelspec": {
   "display_name": "Python 3 (ipykernel)",
   "language": "python",
   "name": "python3"
  },
  "language_info": {
   "codemirror_mode": {
    "name": "ipython",
    "version": 3
   },
   "file_extension": ".py",
   "mimetype": "text/x-python",
   "name": "python",
   "nbconvert_exporter": "python",
   "pygments_lexer": "ipython3",
   "version": "3.13.1"
  }
 },
 "nbformat": 4,
 "nbformat_minor": 5
}
