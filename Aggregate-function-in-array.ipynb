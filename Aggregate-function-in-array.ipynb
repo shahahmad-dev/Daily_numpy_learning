{
 "cells": [
  {
   "cell_type": "code",
   "execution_count": 1,
   "id": "21e35165-2cf5-4558-a4c9-d5936087fc17",
   "metadata": {},
   "outputs": [],
   "source": [
    "import numpy as np"
   ]
  },
  {
   "cell_type": "code",
   "execution_count": 2,
   "id": "43eb014e-870f-4ef4-a9d4-0af48f368a4d",
   "metadata": {},
   "outputs": [
    {
     "name": "stdout",
     "output_type": "stream",
     "text": [
      "10\n"
     ]
    }
   ],
   "source": [
    "arr = np.array([1,2,3,4])\n",
    "print(np.sum(arr))"
   ]
  },
  {
   "cell_type": "markdown",
   "id": "388c464a-1402-46cd-8cf2-641c4e603f63",
   "metadata": {},
   "source": [
    "# Aggregate Function"
   ]
  },
  {
   "cell_type": "code",
   "execution_count": 3,
   "id": "c8100973-d21a-4042-a9f8-0efe8446860f",
   "metadata": {},
   "outputs": [
    {
     "data": {
      "text/plain": [
       "np.float64(2.5)"
      ]
     },
     "execution_count": 3,
     "metadata": {},
     "output_type": "execute_result"
    }
   ],
   "source": [
    "# mean\n",
    "np.mean(arr)"
   ]
  },
  {
   "cell_type": "code",
   "execution_count": 4,
   "id": "eb5fd58a-b196-4043-b420-7665ec9be810",
   "metadata": {},
   "outputs": [
    {
     "data": {
      "text/plain": [
       "np.float64(2.5)"
      ]
     },
     "execution_count": 4,
     "metadata": {},
     "output_type": "execute_result"
    }
   ],
   "source": [
    "# modian\n",
    "np.median(arr)"
   ]
  },
  {
   "cell_type": "code",
   "execution_count": 6,
   "id": "2e32fe49-5e31-4391-ab1c-ea894403793f",
   "metadata": {},
   "outputs": [
    {
     "data": {
      "text/plain": [
       "np.float64(1.118033988749895)"
      ]
     },
     "execution_count": 6,
     "metadata": {},
     "output_type": "execute_result"
    }
   ],
   "source": [
    "# std\n",
    "np.std(arr)"
   ]
  },
  {
   "cell_type": "code",
   "execution_count": 11,
   "id": "dee6ddbe-ba71-4905-b39f-5a8ac3bad4c3",
   "metadata": {},
   "outputs": [
    {
     "data": {
      "text/plain": [
       "np.float64(1.25)"
      ]
     },
     "execution_count": 11,
     "metadata": {},
     "output_type": "execute_result"
    }
   ],
   "source": [
    "# varience\n",
    "np.var(arr)"
   ]
  },
  {
   "cell_type": "code",
   "execution_count": 12,
   "id": "04a7b53a-ac96-499f-a3cd-a2a792570c28",
   "metadata": {},
   "outputs": [
    {
     "data": {
      "text/plain": [
       "np.int64(1)"
      ]
     },
     "execution_count": 12,
     "metadata": {},
     "output_type": "execute_result"
    }
   ],
   "source": [
    "# mini\n",
    "np.min(arr)"
   ]
  },
  {
   "cell_type": "code",
   "execution_count": 13,
   "id": "c96ef58b-d4f2-4a3c-beea-930b2d372c0d",
   "metadata": {},
   "outputs": [
    {
     "data": {
      "text/plain": [
       "np.int64(4)"
      ]
     },
     "execution_count": 13,
     "metadata": {},
     "output_type": "execute_result"
    }
   ],
   "source": [
    "np.max(arr)"
   ]
  },
  {
   "cell_type": "code",
   "execution_count": 19,
   "id": "ed2e457b-eeec-4282-a72b-d20042c6a153",
   "metadata": {},
   "outputs": [
    {
     "data": {
      "text/plain": [
       "2"
      ]
     },
     "execution_count": 19,
     "metadata": {},
     "output_type": "execute_result"
    }
   ],
   "source": [
    "arr = np.array([[1,2,3,4],\n",
    "                 [5,6,7,8]])\n",
    "arr.ndim"
   ]
  },
  {
   "cell_type": "code",
   "execution_count": 26,
   "id": "2855b0ad-3d9c-46f9-ad68-f75f61d872ac",
   "metadata": {},
   "outputs": [
    {
     "name": "stdout",
     "output_type": "stream",
     "text": [
      "[10 26]\n"
     ]
    }
   ],
   "source": [
    "print(np.sum(arr, axis = 1))"
   ]
  },
  {
   "cell_type": "code",
   "execution_count": 25,
   "id": "6b126ef8-14b1-4efd-87a9-63b7605c2c79",
   "metadata": {},
   "outputs": [
    {
     "name": "stdout",
     "output_type": "stream",
     "text": [
      "[ 6  8 10 12]\n"
     ]
    }
   ],
   "source": [
    "print(np.sum(arr, axis = 0))"
   ]
  },
  {
   "cell_type": "markdown",
   "id": "9f088f3e-397a-420b-9d26-77a38412e5bb",
   "metadata": {},
   "source": [
    "# Cumulative Opreation\n"
   ]
  },
  {
   "cell_type": "code",
   "execution_count": 29,
   "id": "1d5412d3-843d-466b-8c92-5256d1bcf0b8",
   "metadata": {},
   "outputs": [],
   "source": [
    "arr1 = np.array([1,4,8])"
   ]
  },
  {
   "cell_type": "code",
   "execution_count": 30,
   "id": "0d9fe5c0-54c3-466d-ac95-919086a619df",
   "metadata": {},
   "outputs": [
    {
     "name": "stdout",
     "output_type": "stream",
     "text": [
      "[ 1  5 13]\n"
     ]
    }
   ],
   "source": [
    "print(np.cumsum(arr1)) # 1+4+8"
   ]
  },
  {
   "cell_type": "code",
   "execution_count": 31,
   "id": "ade700de-fa24-4c48-93e9-f1080c88596b",
   "metadata": {},
   "outputs": [
    {
     "name": "stdout",
     "output_type": "stream",
     "text": [
      "[ 1  4 32]\n"
     ]
    }
   ],
   "source": [
    "print(np.cumprod(arr1)) # 1x4x8"
   ]
  },
  {
   "cell_type": "markdown",
   "id": "ca3661b4-57dd-4a90-83cd-8c0ea4d23f28",
   "metadata": {},
   "source": [
    "# Conditional base choices"
   ]
  },
  {
   "cell_type": "code",
   "execution_count": 33,
   "id": "6df54ee9-0631-445b-96ca-746e27808af6",
   "metadata": {},
   "outputs": [
    {
     "data": {
      "text/plain": [
       "array(['low', 'high', 'high'], dtype='<U4')"
      ]
     },
     "execution_count": 33,
     "metadata": {},
     "output_type": "execute_result"
    }
   ],
   "source": [
    "# where \n",
    "result  = np.where(arr1 <2, 'low', 'high' )\n",
    "result"
   ]
  },
  {
   "cell_type": "code",
   "execution_count": 36,
   "id": "ea7cdcde-8b31-4a09-971f-e784507071fb",
   "metadata": {},
   "outputs": [
    {
     "name": "stdout",
     "output_type": "stream",
     "text": [
      "[[1]\n",
      " [2]\n",
      " [3]\n",
      " [4]]\n"
     ]
    }
   ],
   "source": [
    "arr = np.array([10,30,50,35,76])\n",
    "print(np.argwhere(arr > 20)) # it give u the index if the condition is True"
   ]
  },
  {
   "cell_type": "code",
   "execution_count": 38,
   "id": "464eb521-6771-4d67-a7ff-1f71a9d8f7ad",
   "metadata": {},
   "outputs": [],
   "source": [
    "arr = np.array([[1,2,3,4],\n",
    "                 [5,6,7,8]])"
   ]
  },
  {
   "cell_type": "code",
   "execution_count": 41,
   "id": "22464c96-2771-452c-ab58-bf8efb48e815",
   "metadata": {},
   "outputs": [
    {
     "data": {
      "text/plain": [
       "array([[0, 3],\n",
       "       [1, 0],\n",
       "       [1, 1],\n",
       "       [1, 2],\n",
       "       [1, 3]])"
      ]
     },
     "execution_count": 41,
     "metadata": {},
     "output_type": "execute_result"
    }
   ],
   "source": [
    "arr2 = np.argwhere(arr>3)\n",
    "arr2"
   ]
  },
  {
   "cell_type": "code",
   "execution_count": 56,
   "id": "bd33bf3f-6838-4d78-a9b0-60b7aab179f4",
   "metadata": {},
   "outputs": [
    {
     "name": "stdout",
     "output_type": "stream",
     "text": [
      "[4 5 6]\n",
      "[[False False False  True]\n",
      " [ True  True False False]]\n"
     ]
    }
   ],
   "source": [
    "# Logical and\n",
    "mask  = np.logical_and(arr>3, arr< 7)\n",
    "print(arr[mask])\n",
    "print(mask)"
   ]
  },
  {
   "cell_type": "code",
   "execution_count": 58,
   "id": "88f9a003-b604-4a0a-af9a-445db516aa1a",
   "metadata": {},
   "outputs": [
    {
     "name": "stdout",
     "output_type": "stream",
     "text": [
      "[4 5 6 7 8]\n",
      "[[False False False  True]\n",
      " [ True  True  True  True]]\n"
     ]
    }
   ],
   "source": [
    "# Logical or\n",
    "mask1  = np.logical_or(arr>3, arr>7)\n",
    "print(arr[mask1])\n",
    "print(mask1)"
   ]
  },
  {
   "cell_type": "code",
   "execution_count": 61,
   "id": "f1af3bac-eb1a-4e9e-89f7-d5975306faf0",
   "metadata": {},
   "outputs": [
    {
     "name": "stdout",
     "output_type": "stream",
     "text": [
      "(array([0, 2, 4]),)\n"
     ]
    }
   ],
   "source": [
    "# non-zero\n",
    "arr = np.array([1,0,4,0,8])\n",
    "print(np.nonzero(arr))"
   ]
  },
  {
   "cell_type": "code",
   "execution_count": null,
   "id": "0dfdc50e-0239-4547-89ca-aac4e79a54bd",
   "metadata": {},
   "outputs": [],
   "source": [
    "#"
   ]
  }
 ],
 "metadata": {
  "kernelspec": {
   "display_name": "Python 3 (ipykernel)",
   "language": "python",
   "name": "python3"
  },
  "language_info": {
   "codemirror_mode": {
    "name": "ipython",
    "version": 3
   },
   "file_extension": ".py",
   "mimetype": "text/x-python",
   "name": "python",
   "nbconvert_exporter": "python",
   "pygments_lexer": "ipython3",
   "version": "3.13.1"
  }
 },
 "nbformat": 4,
 "nbformat_minor": 5
}
