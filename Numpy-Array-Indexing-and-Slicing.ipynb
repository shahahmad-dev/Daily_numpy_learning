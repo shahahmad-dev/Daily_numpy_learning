{
 "cells": [
  {
   "cell_type": "markdown",
   "id": "fc481738-d868-4519-9c91-c37f9a341526",
   "metadata": {},
   "source": [
    "# Indexing And Slicing"
   ]
  },
  {
   "cell_type": "code",
   "execution_count": 1,
   "id": "3b7b7830-1d02-4eb0-902b-ba912af089a8",
   "metadata": {},
   "outputs": [],
   "source": [
    "import numpy as np"
   ]
  },
  {
   "cell_type": "code",
   "execution_count": 2,
   "id": "1f4e7616-a9c3-4ff5-9bac-1e082ebf2fda",
   "metadata": {},
   "outputs": [
    {
     "name": "stdout",
     "output_type": "stream",
     "text": [
      "[10 20 30 40 50 60 70 80 90]\n"
     ]
    }
   ],
   "source": [
    "arr = np.array([10, 20, 30, 40, 50, 60, 70 ,80, 90 ])\n",
    "print(arr[:9])"
   ]
  },
  {
   "cell_type": "code",
   "execution_count": 3,
   "id": "c88544e6-1d11-4de0-8905-553f29d92ac5",
   "metadata": {},
   "outputs": [
    {
     "name": "stdout",
     "output_type": "stream",
     "text": [
      "[10 20 30]\n"
     ]
    }
   ],
   "source": [
    "# Positive Indexing\n",
    "print(arr[0:3])"
   ]
  },
  {
   "cell_type": "code",
   "execution_count": 5,
   "id": "9b5be1a5-1edb-427c-9c82-9987ecdd4743",
   "metadata": {},
   "outputs": [
    {
     "name": "stdout",
     "output_type": "stream",
     "text": [
      "[90 80 70 60 50]\n"
     ]
    }
   ],
   "source": [
    "# Negative Indexing\n",
    "print(arr[-1:-6:-1])"
   ]
  },
  {
   "cell_type": "code",
   "execution_count": 6,
   "id": "498e44fa-1f8d-4cc5-b297-ed9cbd0e4082",
   "metadata": {},
   "outputs": [
    {
     "name": "stdout",
     "output_type": "stream",
     "text": [
      "[10 30 50 70 90]\n"
     ]
    }
   ],
   "source": [
    "# Step Indexing\n",
    "print(arr[::2])"
   ]
  },
  {
   "cell_type": "code",
   "execution_count": 19,
   "id": "5eb61c1b-2f65-431c-9f60-2911631bfd3b",
   "metadata": {},
   "outputs": [
    {
     "name": "stdout",
     "output_type": "stream",
     "text": [
      "[[1]\n",
      " [4]\n",
      " [8]]\n"
     ]
    }
   ],
   "source": [
    "matrix =np.array ([[1,2,3],\n",
    "                  [4,5,7],\n",
    "                  [8,9,0]\n",
    "])\n",
    "\n",
    "print(matrix[0:3, 0:1])\n",
    "# matrix.ndim"
   ]
  },
  {
   "cell_type": "code",
   "execution_count": 18,
   "id": "20d06da0-7891-4459-bacb-c920787a2887",
   "metadata": {},
   "outputs": [
    {
     "name": "stdout",
     "output_type": "stream",
     "text": [
      "[[4 5]\n",
      " [8 9]]\n"
     ]
    }
   ],
   "source": [
    "print(matrix[1:, 0:2])"
   ]
  },
  {
   "cell_type": "code",
   "execution_count": 25,
   "id": "bc59e2d4-13d3-45b2-b675-04bb3d55f9b6",
   "metadata": {},
   "outputs": [
    {
     "name": "stdout",
     "output_type": "stream",
     "text": [
      "[[0]]\n"
     ]
    }
   ],
   "source": [
    "print(matrix[-1:, -1:])"
   ]
  },
  {
   "cell_type": "code",
   "execution_count": 27,
   "id": "6b0609b5-4174-43f5-8981-6513428cd12a",
   "metadata": {},
   "outputs": [
    {
     "name": "stdout",
     "output_type": "stream",
     "text": [
      "[[1]]\n"
     ]
    }
   ],
   "source": [
    "print(matrix[0:1,0:1])"
   ]
  },
  {
   "cell_type": "markdown",
   "id": "d6ad28b7-9965-4a92-8fce-e4244ec487b8",
   "metadata": {},
   "source": [
    "# np.take functin\n"
   ]
  },
  {
   "cell_type": "code",
   "execution_count": 29,
   "id": "83b3aae2-1dff-47e2-8b34-31ba1835510f",
   "metadata": {},
   "outputs": [
    {
     "name": "stdout",
     "output_type": "stream",
     "text": [
      "[10 90]\n"
     ]
    }
   ],
   "source": [
    "arr = np.array([10, 20, 30, 40, 50, 60, 70 ,80, 90 ])\n",
    "ind = [0,-1]\n",
    "print(np.take(arr, ind))"
   ]
  },
  {
   "cell_type": "code",
   "execution_count": 30,
   "id": "67c74847-f944-4657-b2c9-0bd9aac6e45b",
   "metadata": {},
   "outputs": [
    {
     "name": "stdout",
     "output_type": "stream",
     "text": [
      "[20 40 80]\n"
     ]
    }
   ],
   "source": [
    "ind = [1,3,-2]\n",
    "print(np.take(arr, ind))"
   ]
  },
  {
   "cell_type": "markdown",
   "id": "4b80e261-dbf0-4a6c-b980-6ff848e0d6c3",
   "metadata": {},
   "source": [
    "# np.nditer using for looping array"
   ]
  },
  {
   "cell_type": "code",
   "execution_count": 37,
   "id": "927df60f-2ae9-4525-94b4-a6b6c6883c6d",
   "metadata": {},
   "outputs": [
    {
     "name": "stdout",
     "output_type": "stream",
     "text": [
      "1 2 3 4 5 6 "
     ]
    }
   ],
   "source": [
    "arr = np.array([[1,2,3],[4,5,6]])\n",
    "for i in np.nditer(arr):\n",
    "    print(i, end=' ')"
   ]
  },
  {
   "cell_type": "markdown",
   "id": "3b5c03c9-c5b0-4cd7-ae16-6d99921a94fb",
   "metadata": {},
   "source": [
    "# np.ndenumerate --> show index and value"
   ]
  },
  {
   "cell_type": "code",
   "execution_count": 40,
   "id": "7b908a1e-9ed9-47b8-a489-07622402dcd9",
   "metadata": {},
   "outputs": [
    {
     "name": "stdout",
     "output_type": "stream",
     "text": [
      "(0, 0) 1\n",
      "(0, 1) 2\n",
      "(0, 2) 3\n",
      "(1, 0) 4\n",
      "(1, 1) 5\n",
      "(1, 2) 6\n"
     ]
    }
   ],
   "source": [
    "for ind, x in np.ndenumerate(arr):\n",
    "    print(ind, x)"
   ]
  },
  {
   "cell_type": "markdown",
   "id": "d65ec8f0-3926-453d-bb8f-6d099baeb3f1",
   "metadata": {},
   "source": [
    "# View and Copy"
   ]
  },
  {
   "cell_type": "code",
   "execution_count": 51,
   "id": "5341f32f-5b50-4324-a065-b5c18aae5a5e",
   "metadata": {},
   "outputs": [
    {
     "name": "stdout",
     "output_type": "stream",
     "text": [
      "[200   3]\n",
      "[  1 200   3   4   5]\n"
     ]
    }
   ],
   "source": [
    "array = np.array([1,2,3,4,5])\n",
    "view = array[1:3]\n",
    "view[0]=200\n",
    "print(view)\n",
    "print(array) # array is changed"
   ]
  },
  {
   "cell_type": "code",
   "execution_count": 53,
   "id": "d92e18f1-5738-426e-b80d-1b3c48444aaa",
   "metadata": {},
   "outputs": [
    {
     "name": "stdout",
     "output_type": "stream",
     "text": [
      "[  2 200]\n",
      "[1 2 3 4 5 6]\n"
     ]
    }
   ],
   "source": [
    "array = np.array([1,2,3,4,5,6])\n",
    "copy = array[1:3].copy()\n",
    "copy[1]=200\n",
    "print(copy)\n",
    "print(array) # array is not change"
   ]
  }
 ],
 "metadata": {
  "kernelspec": {
   "display_name": "Python 3 (ipykernel)",
   "language": "python",
   "name": "python3"
  },
  "language_info": {
   "codemirror_mode": {
    "name": "ipython",
    "version": 3
   },
   "file_extension": ".py",
   "mimetype": "text/x-python",
   "name": "python",
   "nbconvert_exporter": "python",
   "pygments_lexer": "ipython3",
   "version": "3.13.1"
  }
 },
 "nbformat": 4,
 "nbformat_minor": 5
}
